{
 "cells": [
  {
   "cell_type": "markdown",
   "id": "a46c2b73-3f0e-4056-b7aa-fc374d9329ca",
   "metadata": {},
   "source": [
    "# EDS-220 Homework 4\n",
    "## Homework 4, Task 2, Fire Perimeter\n",
    "### By Amanda Overbye\n",
    "Github [link](https://github.com/Aoverbye/eds220-hwk4)\n",
    "\n",
    "Github URL: https://github.com/Aoverbye/eds220-hwk4\n",
    "\n",
    "### About\n",
    "This notebook is about selecting fire parimeter data and saving it as a GeoJSON file to be used in a different notebook for this homework project.\n",
    "The dataset featured in this notebook is from Californias CAL FIRE. It originated from the California Fire Perimeters (all) dataset, and includes spatial distribution for large California fires. \n",
    "\n",
    "#### Purpose:\n",
    "\n",
    "The Purpose of this notebook is to demestrate how to select spatial data and save it as data that can be used later. \n",
    "\n",
    "#### Highlights: \n",
    "- Creating a filter to filter out data not pertaining to the 2017 Thomas Fire in Santa Barbara County. \n",
    "- Saving newly filtered Thomas fire spatial data as a GeoJSON file.\n",
    "\n",
    "#### References\n",
    "\n",
    "California Fire Perimeters (all): CAL FIRE. (2023, May 14). California Fire Perimeters (all). U.S. Department of the Interior. Accessed 11/23/2024, from https://catalog.data.gov/dataset/california-fire-perimeters-all-b3436"
   ]
  },
  {
   "cell_type": "code",
   "execution_count": null,
   "id": "20eab88a-72bb-4da7-b852-fc3aace3e2c6",
   "metadata": {
    "tags": []
   },
   "outputs": [],
   "source": [
    "# Import Libraries\n",
    "import pandas as pr \n",
    "import os\n",
    "import matplotlib.pyplot as plt\n",
    "import xarray as xr\n",
    "import rioxarray\n",
    "import geopandas as gpd"
   ]
  },
  {
   "cell_type": "code",
   "execution_count": null,
   "id": "c3d3004f-583d-4f29-9c39-3935412976ec",
   "metadata": {
    "tags": []
   },
   "outputs": [],
   "source": [
    "# Get working directory\n",
    "os.getcwd()"
   ]
  },
  {
   "cell_type": "code",
   "execution_count": null,
   "id": "13d938a1-5522-4ba3-9340-eef7af8459e4",
   "metadata": {
    "tags": []
   },
   "outputs": [],
   "source": [
    "# Read in California fire perameter data\n",
    "fp = os.path.join('/', 'Users', 'overbye', 'MEDS', 'EDS-220', 'eds220-hwk4', 'data', 'California_Fire_Perimeters_-9021497757356455187')\n",
    "\n",
    "# Read the file for the Thomas Fire dataset using GeoPandas\n",
    "ca_fires = gpd.read_file(fp)"
   ]
  },
  {
   "cell_type": "markdown",
   "id": "51f77da7-956d-4a05-bf0e-3a5ba1e04009",
   "metadata": {},
   "source": [
    "### Preliminary Data Exploration:"
   ]
  },
  {
   "cell_type": "code",
   "execution_count": null,
   "id": "3b0614e9-7398-4bf8-a5d5-ca8132898efa",
   "metadata": {
    "tags": []
   },
   "outputs": [],
   "source": [
    "# View ca_fires\n",
    "print(ca_fires.head())"
   ]
  },
  {
   "cell_type": "code",
   "execution_count": null,
   "id": "5441bb9f-04f0-45e0-b806-52be377bc785",
   "metadata": {
    "tags": []
   },
   "outputs": [],
   "source": [
    "# View the data types of the columns\n",
    "print(ca_fires.dtypes)"
   ]
  },
  {
   "cell_type": "code",
   "execution_count": null,
   "id": "90370f38-ff64-4b5a-a772-5041bda59978",
   "metadata": {
    "tags": []
   },
   "outputs": [],
   "source": [
    "# Check if the CRS of ca_fires is projected\n",
    "print(f\"True or False: the CRS of ca_fires projected. {ca_fires.crs.is_projected}\")"
   ]
  },
  {
   "cell_type": "code",
   "execution_count": null,
   "id": "66fa970b-8f40-4b47-ae95-5cfc0423f8e4",
   "metadata": {
    "tags": []
   },
   "outputs": [],
   "source": [
    "# View all fires in the year 2017\n",
    "print(ca_fires[ca_fires['YEAR_'] == 2017])\n"
   ]
  },
  {
   "cell_type": "code",
   "execution_count": null,
   "id": "7696d571-fdc3-4637-8d49-8e9b02099ea3",
   "metadata": {
    "tags": []
   },
   "outputs": [],
   "source": [
    "# View any unique values in the FIRE_NAME column\n",
    "print(ca_fires['FIRE_NAME'].unique())"
   ]
  },
  {
   "cell_type": "code",
   "execution_count": null,
   "id": "406ccc41-0922-422e-9d65-d56f81bff04b",
   "metadata": {
    "tags": []
   },
   "outputs": [],
   "source": [
    "# View the CRS of ca_fires\n",
    "print(ca_fires.crs)"
   ]
  },
  {
   "cell_type": "markdown",
   "id": "efa284c8-7c7e-489f-949e-d19adb961907",
   "metadata": {},
   "source": [
    "### Summary of Preliminary Data Exploration\n",
    "\n",
    "The data set ca_fires is a GeoDataFrame that includes information about fires that have occured in California. For my preliminary data exploration, I first used the `.head()` function to get a general overview of the data. I could see that it includes information about the year, names of the fires, and has a geometries column. I then used `.dtypes` to view the column data types and confirm that the geometry column is the geometry data type. I used `crs.is_projected` to check if the data is projected or geographic, and I found that it is projected. I went to view any fires in 2017, and used `.unique` to see if there were any unique values in the `YEAR_` column. Lastly, I used `.crs` to check the CRS for the ca_fires data, and the CRS is  EPSG: 3857."
   ]
  },
  {
   "cell_type": "markdown",
   "id": "7f7c5def-bdb9-4da0-a5bb-7a8d078aa660",
   "metadata": {},
   "source": [
    "### Filtering The Data For the 2017 Thomas Fire and Creating a GeoJSON File"
   ]
  },
  {
   "cell_type": "code",
   "execution_count": null,
   "id": "c989c86d-6307-43bd-9615-79affd7bb10d",
   "metadata": {
    "tags": []
   },
   "outputs": [],
   "source": [
    "# Filter for the 2017 Thomas Fire\n",
    "thomas_fire = ca_fires[(ca_fires['YEAR_'] == 2017) & (ca_fires['FIRE_NAME'] == 'THOMAS')]"
   ]
  },
  {
   "cell_type": "code",
   "execution_count": null,
   "id": "026539c5-0572-40c1-93f9-0c3694cbf289",
   "metadata": {
    "tags": []
   },
   "outputs": [],
   "source": [
    "# View the Thomas Fire\n",
    "print(thomas_fire)"
   ]
  },
  {
   "cell_type": "code",
   "execution_count": null,
   "id": "313c0df4-36ff-4f89-84fb-857d1f699190",
   "metadata": {
    "tags": []
   },
   "outputs": [],
   "source": [
    "# Plot Thomas Fire\n",
    "thomas_fire.plot()"
   ]
  },
  {
   "cell_type": "code",
   "execution_count": null,
   "id": "330d5bb0-3157-4950-a7bb-f04cd845ab4d",
   "metadata": {
    "tags": []
   },
   "outputs": [],
   "source": [
    "# Saving Thomas_fire as a GeoJSON file. \n",
    "thomas_fire.to_file(\"thomas_fire.geojson\", driver=\"GeoJSON\")"
   ]
  },
  {
   "cell_type": "markdown",
   "id": "b41fee50-57e9-47dc-bc53-0eb27e7cb87a",
   "metadata": {},
   "source": [
    "### Reasoning Behind File Choice\n",
    "I originally save the Thomas Fire data as a shapefile, but then I found the multiple files it created to messier than I would have liked. I went GeoJSON because it only produced one file and is cleaner in my data folder."
   ]
  }
 ],
 "metadata": {
  "kernelspec": {
   "display_name": "Anaconda 3 (EDS220)",
   "language": "python",
   "name": "eds220-env"
  },
  "language_info": {
   "codemirror_mode": {
    "name": "ipython",
    "version": 3
   },
   "file_extension": ".py",
   "mimetype": "text/x-python",
   "name": "python",
   "nbconvert_exporter": "python",
   "pygments_lexer": "ipython3",
   "version": "3.11.4"
  }
 },
 "nbformat": 4,
 "nbformat_minor": 5
}
