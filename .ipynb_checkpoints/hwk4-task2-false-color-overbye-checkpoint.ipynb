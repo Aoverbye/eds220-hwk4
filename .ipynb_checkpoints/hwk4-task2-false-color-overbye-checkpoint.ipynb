{
 "cells": [
  {
   "cell_type": "markdown",
   "id": "3db25948-c6bf-4fb5-9cad-cb69c1c4f16f",
   "metadata": {},
   "source": [
    "# EDS-220 Homework 4\n",
    "### By Amanda Overbye\n",
    "\n",
    "Github [link](hwk4-task2-false-color-YOURLASTNAME.ipynb)\n",
    "\n",
    "Github URL: hwk4-task2-false-color-YOURLASTNAME.ipynb"
   ]
  },
  {
   "cell_type": "code",
   "execution_count": null,
   "id": "360e0734-bacf-471d-9ff0-e9811cb9a059",
   "metadata": {},
   "outputs": [],
   "source": []
  }
 ],
 "metadata": {
  "kernelspec": {
   "display_name": "Anaconda 3 (EDS220)",
   "language": "python",
   "name": "eds220-env"
  },
  "language_info": {
   "codemirror_mode": {
    "name": "ipython",
    "version": 3
   },
   "file_extension": ".py",
   "mimetype": "text/x-python",
   "name": "python",
   "nbconvert_exporter": "python",
   "pygments_lexer": "ipython3",
   "version": "3.11.4"
  }
 },
 "nbformat": 4,
 "nbformat_minor": 5
}
